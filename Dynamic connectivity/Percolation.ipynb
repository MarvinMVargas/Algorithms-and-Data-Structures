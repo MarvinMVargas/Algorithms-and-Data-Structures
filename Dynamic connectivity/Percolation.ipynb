{
 "cells": [
  {
   "cell_type": "markdown",
   "metadata": {},
   "source": [
    "# Percolation Problem"
   ]
  },
  {
   "cell_type": "code",
   "execution_count": 192,
   "metadata": {},
   "outputs": [],
   "source": [
    "import numpy as np\n",
    "import random"
   ]
  },
  {
   "cell_type": "code",
   "execution_count": 193,
   "metadata": {},
   "outputs": [],
   "source": [
    "class percolation():\n",
    "    '''\n",
    "    Class that creates a percolation problem simulation and calculates\n",
    "    the site vacancy probability (p) at the which the grid percolates.\n",
    "    '''\n",
    "    L = 0\n",
    "    nopn = 0\n",
    "    #Creates n*n grid with all squares initially closed\n",
    "    def __init__(self,n):\n",
    "        self.L = n\n",
    "        self.arr = np.zeros((n,n),np.uint64)\n",
    "        self.sz = np.ones((n,n),np.uint64)\n",
    "        self.opn = np.zeros((n,n),np.uint64)\n",
    "        for i in range(n):\n",
    "            for j in range(n):\n",
    "                self.arr[i][j] = int(i*n+j)\n",
    "    \n",
    "    #Opens the chosen tile of the grid.\n",
    "    def Open(self,row,col):\n",
    "        row = row-1\n",
    "        col = col-1\n",
    "        if not self.isOpen(row,col):\n",
    "            self.nopn += 1\n",
    "            self.opn[row][col] = 1\n",
    "            for i,j,y in [[row-1,col,1],[row,col+1,2],[row,col-1,3],[row+1,col,4]]:\n",
    "                if i >= 0 and i < self.L and j >= 0 and j < self.L:\n",
    "                    if self.isOpen(i,j):\n",
    "                        self.union(row,col,i,j)\n",
    "    \n",
    "    #Checks if the chosen tile is open.\n",
    "    def isOpen(self,row,col):\n",
    "        return self.opn[row][col] == 1\n",
    "    \n",
    "    #Checks if the chosen tile is connected to the top\n",
    "    def isFull(self,row,col):\n",
    "        for i in range(self.L):\n",
    "            if self.connected(0,i,row,col):\n",
    "                return 1\n",
    "        return 0\n",
    "    \n",
    "    #Returns the number of open squares\n",
    "    def numberOfOpenSites(self):\n",
    "        return self.nopn\n",
    "    \n",
    "    #Checks if the grid is percolating\n",
    "    def percolates(self):\n",
    "        for i in range(self.L):\n",
    "            if self.isFull(self.L-1,i):\n",
    "                return 1\n",
    "        return 0\n",
    "    \n",
    "    #Returns the root of the tree of the selected square\n",
    "    def get_root(self,row,col):\n",
    "        while self.arr[int(row)][int(col)] != int(row*self.L+col):\n",
    "            prow = row\n",
    "            row = int(self.arr[int(row)][int(col)]/self.L)\n",
    "            col = self.arr[int(prow)][int(col)]-(row*self.L)\n",
    "        return int(row*self.L+col)\n",
    "    \n",
    "    #Merges two elements or two trees\n",
    "    def union(self,row1,col1,row2,col2):\n",
    "        x = self.get_root(row1,col1)\n",
    "        y = self.get_root(row2,col2)\n",
    "        if x != y:\n",
    "            row1 = int(x/self.L)\n",
    "            col1 = int(x-(row1*self.L))\n",
    "            row2 = int(y/self.L)\n",
    "            col2 = int(y-(row2*self.L))\n",
    "            if self.sz[row1][col1] >= self.sz[row2][col2]:\n",
    "                self.arr[row1][col1] = self.get_root(row2,col2)\n",
    "                self.sz[row2][col2] += self.sz[row1][col1]\n",
    "            else:\n",
    "                self.arr[row2][col2] = self.get_root(row1,col1)\n",
    "                self.sz[row1][col1] += self.sz[row2][col2]\n",
    "    \n",
    "    #Checks if two elements of the grid are connected\n",
    "    def connected(self,row1,col1,row2,col2):\n",
    "        return self.get_root(row1,col1) == self.get_root(row2,col2)\n",
    "    \n",
    "    "
   ]
  },
  {
   "cell_type": "code",
   "execution_count": 205,
   "metadata": {},
   "outputs": [],
   "source": [
    "test = percolation(20)"
   ]
  },
  {
   "cell_type": "code",
   "execution_count": null,
   "metadata": {},
   "outputs": [],
   "source": [
    "while not test.percolates():\n",
    "    test.Open(random.randrange(1,6),random.randrange(1,6))\n",
    "print('p:{}'.format(test.nopn/400))"
   ]
  },
  {
   "cell_type": "code",
   "execution_count": null,
   "metadata": {},
   "outputs": [],
   "source": [
    "test.sz"
   ]
  },
  {
   "cell_type": "code",
   "execution_count": null,
   "metadata": {},
   "outputs": [],
   "source": [
    "test.opn"
   ]
  },
  {
   "cell_type": "code",
   "execution_count": null,
   "metadata": {},
   "outputs": [],
   "source": [
    "test.arr"
   ]
  },
  {
   "cell_type": "code",
   "execution_count": null,
   "metadata": {},
   "outputs": [],
   "source": []
  }
 ],
 "metadata": {
  "kernelspec": {
   "display_name": "Python 3",
   "language": "python",
   "name": "python3"
  }
 },
 "nbformat": 4,
 "nbformat_minor": 2
}
